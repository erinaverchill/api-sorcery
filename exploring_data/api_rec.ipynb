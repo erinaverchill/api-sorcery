{
 "cells": [
  {
   "cell_type": "code",
   "execution_count": 1,
   "metadata": {},
   "outputs": [],
   "source": [
    "import pandas as pd\n",
    "import requests\n",
    "import json"
   ]
  },
  {
   "cell_type": "code",
   "execution_count": 2,
   "metadata": {},
   "outputs": [],
   "source": [
    "query = \"Bachelor's Degree\""
   ]
  },
  {
   "cell_type": "code",
   "execution_count": 3,
   "metadata": {},
   "outputs": [],
   "source": [
    "url ='https://data.ca.gov/api/3/action/datastore_search?resource_id=601ba4d4-6770-4446-894b-193e1f608bdd&q=title:'\n",
    "query_url = url + query"
   ]
  },
  {
   "cell_type": "code",
   "execution_count": 4,
   "metadata": {},
   "outputs": [
    {
     "name": "stdout",
     "output_type": "stream",
     "text": [
      "<Response [200]>\n"
     ]
    }
   ],
   "source": [
    "print(requests.get(query_url))"
   ]
  },
  {
   "cell_type": "code",
   "execution_count": 5,
   "metadata": {},
   "outputs": [
    {
     "name": "stdout",
     "output_type": "stream",
     "text": [
      "{'help': 'https://data.ca.gov/api/3/action/help_show?name=datastore_search', 'success': True, 'result': {'include_total': True, 'resource_id': '601ba4d4-6770-4446-894b-193e1f608bdd', 'fields': [{'type': 'int', 'id': '_id'}, {'type': 'text', 'id': 'Area Type'}, {'type': 'text', 'id': 'Area Name'}, {'type': 'text', 'id': 'Industry Cluster'}, {'type': 'text', 'id': 'SOC Code'}, {'type': 'text', 'id': 'SOC Title'}, {'type': 'text', 'id': 'Entry Level Education'}, {'type': 'text', 'id': 'Median Hourly Wage'}, {'type': 'text', 'id': 'Median Annual Wage'}, {'type': 'text', 'id': 'Period'}, {'type': 'text', 'id': 'New Job Openings'}, {'type': 'text', 'id': 'Replacement Job Openings'}, {'type': 'text', 'id': 'Total Projected Job openings'}, {'type': 'text', 'id': 'Online Job Ads (HWOL)'}, {'type': 'float', 'id': 'rank'}], 'records_format': 'objects', 'q': \"title:Bachelor's Degree\", 'records': [], 'limit': 100, '_links': {'start': '/api/3/action/datastore_search?q=title%3ABachelor%27s+Degree&resource_id=601ba4d4-6770-4446-894b-193e1f608bdd', 'next': '/api/3/action/datastore_search?q=title%3ABachelor%27s+Degree&offset=100&resource_id=601ba4d4-6770-4446-894b-193e1f608bdd'}, 'total': 0}}\n"
     ]
    }
   ],
   "source": [
    "print(requests.get(query_url).json())"
   ]
  },
  {
   "cell_type": "code",
   "execution_count": 7,
   "metadata": {},
   "outputs": [
    {
     "name": "stdout",
     "output_type": "stream",
     "text": [
      "{\n",
      "    \"help\": \"https://data.ca.gov/api/3/action/help_show?name=datastore_search\",\n",
      "    \"result\": {\n",
      "        \"_links\": {\n",
      "            \"next\": \"/api/3/action/datastore_search?q=title%3ABachelor%27s+Degree&offset=100&resource_id=601ba4d4-6770-4446-894b-193e1f608bdd\",\n",
      "            \"start\": \"/api/3/action/datastore_search?q=title%3ABachelor%27s+Degree&resource_id=601ba4d4-6770-4446-894b-193e1f608bdd\"\n",
      "        },\n",
      "        \"fields\": [\n",
      "            {\n",
      "                \"id\": \"_id\",\n",
      "                \"type\": \"int\"\n",
      "            },\n",
      "            {\n",
      "                \"id\": \"Area Type\",\n",
      "                \"type\": \"text\"\n",
      "            },\n",
      "            {\n",
      "                \"id\": \"Area Name\",\n",
      "                \"type\": \"text\"\n",
      "            },\n",
      "            {\n",
      "                \"id\": \"Industry Cluster\",\n",
      "                \"type\": \"text\"\n",
      "            },\n",
      "            {\n",
      "                \"id\": \"SOC Code\",\n",
      "                \"type\": \"text\"\n",
      "            },\n",
      "            {\n",
      "                \"id\": \"SOC Title\",\n",
      "                \"type\": \"text\"\n",
      "            },\n",
      "            {\n",
      "                \"id\": \"Entry Level Education\",\n",
      "                \"type\": \"text\"\n",
      "            },\n",
      "            {\n",
      "                \"id\": \"Median Hourly Wage\",\n",
      "                \"type\": \"text\"\n",
      "            },\n",
      "            {\n",
      "                \"id\": \"Median Annual Wage\",\n",
      "                \"type\": \"text\"\n",
      "            },\n",
      "            {\n",
      "                \"id\": \"Period\",\n",
      "                \"type\": \"text\"\n",
      "            },\n",
      "            {\n",
      "                \"id\": \"New Job Openings\",\n",
      "                \"type\": \"text\"\n",
      "            },\n",
      "            {\n",
      "                \"id\": \"Replacement Job Openings\",\n",
      "                \"type\": \"text\"\n",
      "            },\n",
      "            {\n",
      "                \"id\": \"Total Projected Job openings\",\n",
      "                \"type\": \"text\"\n",
      "            },\n",
      "            {\n",
      "                \"id\": \"Online Job Ads (HWOL)\",\n",
      "                \"type\": \"text\"\n",
      "            },\n",
      "            {\n",
      "                \"id\": \"rank\",\n",
      "                \"type\": \"float\"\n",
      "            }\n",
      "        ],\n",
      "        \"include_total\": true,\n",
      "        \"limit\": 100,\n",
      "        \"q\": \"title:Bachelor's Degree\",\n",
      "        \"records\": [],\n",
      "        \"records_format\": \"objects\",\n",
      "        \"resource_id\": \"601ba4d4-6770-4446-894b-193e1f608bdd\",\n",
      "        \"total\": 0\n",
      "    },\n",
      "    \"success\": true\n",
      "}\n"
     ]
    }
   ],
   "source": [
    "# Pretty Print the output of the JSON\n",
    "reg_economic_json = requests.get(query_url).json()\n",
    "print(json.dumps(reg_economic_json, indent=4, sort_keys=True))"
   ]
  },
  {
   "cell_type": "code",
   "execution_count": 8,
   "metadata": {},
   "outputs": [
    {
     "data": {
      "text/plain": [
       "dict_keys(['help', 'success', 'result'])"
      ]
     },
     "execution_count": 8,
     "metadata": {},
     "output_type": "execute_result"
    }
   ],
   "source": [
    "reg_economic_json.keys()"
   ]
  },
  {
   "cell_type": "code",
   "execution_count": 9,
   "metadata": {},
   "outputs": [
    {
     "data": {
      "text/plain": [
       "dict_keys(['include_total', 'resource_id', 'fields', 'records_format', 'q', 'records', 'limit', '_links', 'total'])"
      ]
     },
     "execution_count": 9,
     "metadata": {},
     "output_type": "execute_result"
    }
   ],
   "source": [
    "reg_economic_json[\"result\"].keys()"
   ]
  },
  {
   "cell_type": "code",
   "execution_count": 11,
   "metadata": {},
   "outputs": [
    {
     "data": {
      "text/plain": [
       "0"
      ]
     },
     "execution_count": 11,
     "metadata": {},
     "output_type": "execute_result"
    }
   ],
   "source": [
    "reg_economic_json['result']['total']"
   ]
  },
  {
   "cell_type": "code",
   "execution_count": null,
   "metadata": {},
   "outputs": [],
   "source": []
  }
 ],
 "metadata": {
  "kernelspec": {
   "display_name": "Python 3",
   "language": "python",
   "name": "python3"
  },
  "language_info": {
   "codemirror_mode": {
    "name": "ipython",
    "version": 3
   },
   "file_extension": ".py",
   "mimetype": "text/x-python",
   "name": "python",
   "nbconvert_exporter": "python",
   "pygments_lexer": "ipython3",
   "version": "3.7.6"
  }
 },
 "nbformat": 4,
 "nbformat_minor": 4
}
