{
 "cells": [
  {
   "cell_type": "code",
   "execution_count": 39,
   "metadata": {},
   "outputs": [],
   "source": [
    "# The age data is only broken into 3 categories '00 to 17', '18 to 64', '65 to 80+'\n",
    "# education: Children under 15', 'No high school diploma','High school or equivalent', \n",
    "#'Some college, less than 4-yr degree', \"Bachelor's degree or higher\n",
    "#Year: 2008-2014 (other data set is for 2012-2022)\n",
    "# we can look at  high schoo, some college and college vs income\n",
    "#we can look at the data over time and for men vs women\n",
    "#there are some mismatches between the two data sets\n",
    "#EAPI is income and doesn't require current employment (and may reflect nonemployment income),\n",
    "#so it is lower\n",
    "#Matt -- EPI dataset: Men vs women, trends over time \n",
    "#(Statistical difference -- linear regression, p-value, t-test/ ANOVA/Chi-Squared)\n",
    "        \n",
    "import pandas as pd\n",
    "import numpy as np\n",
    "import matplotlib.pyplot as plt"
   ]
  },
  {
   "cell_type": "code",
   "execution_count": 40,
   "metadata": {},
   "outputs": [],
   "source": [
    "# import income by education attainment data\n",
    "data = pd.read_csv(\"../api-sorcery/Resources/economic_personal_income_clean.csv\")"
   ]
  },
  {
   "cell_type": "code",
   "execution_count": 41,
   "metadata": {},
   "outputs": [],
   "source": [
    "# make a data frame\n",
    "income_df=pd.DataFrame(data)"
   ]
  },
  {
   "cell_type": "code",
   "execution_count": 42,
   "metadata": {},
   "outputs": [
    {
     "data": {
      "text/html": [
       "<div>\n",
       "<style scoped>\n",
       "    .dataframe tbody tr th:only-of-type {\n",
       "        vertical-align: middle;\n",
       "    }\n",
       "\n",
       "    .dataframe tbody tr th {\n",
       "        vertical-align: top;\n",
       "    }\n",
       "\n",
       "    .dataframe thead th {\n",
       "        text-align: right;\n",
       "    }\n",
       "</style>\n",
       "<table border=\"1\" class=\"dataframe\">\n",
       "  <thead>\n",
       "    <tr style=\"text-align: right;\">\n",
       "      <th></th>\n",
       "      <th>Education Level</th>\n",
       "      <th>Year</th>\n",
       "      <th>Age</th>\n",
       "      <th>Gender</th>\n",
       "      <th>Personal Income</th>\n",
       "      <th>Population Count</th>\n",
       "    </tr>\n",
       "  </thead>\n",
       "  <tbody>\n",
       "    <tr>\n",
       "      <th>0</th>\n",
       "      <td>Children under 15</td>\n",
       "      <td>2008-01-01</td>\n",
       "      <td>00 to 17</td>\n",
       "      <td>Male</td>\n",
       "      <td>No Income</td>\n",
       "      <td>NaN</td>\n",
       "    </tr>\n",
       "    <tr>\n",
       "      <th>1</th>\n",
       "      <td>No high school diploma</td>\n",
       "      <td>2008-01-01</td>\n",
       "      <td>00 to 17</td>\n",
       "      <td>Male</td>\n",
       "      <td>No Income</td>\n",
       "      <td>650889.0</td>\n",
       "    </tr>\n",
       "    <tr>\n",
       "      <th>2</th>\n",
       "      <td>No high school diploma</td>\n",
       "      <td>2008-01-01</td>\n",
       "      <td>00 to 17</td>\n",
       "      <td>Male</td>\n",
       "      <td>5,000 - 9,999</td>\n",
       "      <td>30152.0</td>\n",
       "    </tr>\n",
       "    <tr>\n",
       "      <th>3</th>\n",
       "      <td>No high school diploma</td>\n",
       "      <td>2008-01-01</td>\n",
       "      <td>00 to 17</td>\n",
       "      <td>Male</td>\n",
       "      <td>10,000 - 14,000</td>\n",
       "      <td>7092.0</td>\n",
       "    </tr>\n",
       "    <tr>\n",
       "      <th>4</th>\n",
       "      <td>No high school diploma</td>\n",
       "      <td>2008-01-01</td>\n",
       "      <td>00 to 17</td>\n",
       "      <td>Male</td>\n",
       "      <td>15,000 - 24,999</td>\n",
       "      <td>3974.0</td>\n",
       "    </tr>\n",
       "  </tbody>\n",
       "</table>\n",
       "</div>"
      ],
      "text/plain": [
       "          Education Level        Year       Age Gender  Personal Income  \\\n",
       "0       Children under 15  2008-01-01  00 to 17   Male        No Income   \n",
       "1  No high school diploma  2008-01-01  00 to 17   Male        No Income   \n",
       "2  No high school diploma  2008-01-01  00 to 17   Male    5,000 - 9,999   \n",
       "3  No high school diploma  2008-01-01  00 to 17   Male  10,000 - 14,000   \n",
       "4  No high school diploma  2008-01-01  00 to 17   Male  15,000 - 24,999   \n",
       "\n",
       "   Population Count  \n",
       "0               NaN  \n",
       "1          650889.0  \n",
       "2           30152.0  \n",
       "3            7092.0  \n",
       "4            3974.0  "
      ]
     },
     "execution_count": 42,
     "metadata": {},
     "output_type": "execute_result"
    }
   ],
   "source": [
    "income_df.head()"
   ]
  },
  {
   "cell_type": "markdown",
   "metadata": {},
   "source": []
  },
  {
   "cell_type": "code",
   "execution_count": 43,
   "metadata": {},
   "outputs": [
    {
     "name": "stdout",
     "output_type": "stream",
     "text": [
      "<class 'pandas.core.frame.DataFrame'>\n",
      "RangeIndex: 1060 entries, 0 to 1059\n",
      "Data columns (total 6 columns):\n",
      " #   Column            Non-Null Count  Dtype  \n",
      "---  ------            --------------  -----  \n",
      " 0   Education Level   1060 non-null   object \n",
      " 1   Year              1060 non-null   object \n",
      " 2   Age               1060 non-null   object \n",
      " 3   Gender            1060 non-null   object \n",
      " 4   Personal Income   1060 non-null   object \n",
      " 5   Population Count  1026 non-null   float64\n",
      "dtypes: float64(1), object(5)\n",
      "memory usage: 49.8+ KB\n"
     ]
    }
   ],
   "source": [
    "income_df.info()"
   ]
  },
  {
   "cell_type": "code",
   "execution_count": 44,
   "metadata": {},
   "outputs": [
    {
     "data": {
      "text/plain": [
       "2011-01-01    155\n",
       "2009-01-01    153\n",
       "2010-01-01    153\n",
       "2012-01-01    151\n",
       "2014-01-01    150\n",
       "2013-01-01    149\n",
       "2008-01-01    149\n",
       "Name: Year, dtype: int64"
      ]
     },
     "execution_count": 44,
     "metadata": {},
     "output_type": "execute_result"
    }
   ],
   "source": [
    "income_df[\"Year\"].value_counts()"
   ]
  },
  {
   "cell_type": "code",
   "execution_count": 45,
   "metadata": {},
   "outputs": [
    {
     "data": {
      "text/plain": [
       "No Income          173\n",
       "5,000 - 9,999      142\n",
       "15,000 - 24,999    139\n",
       "10,000 - 14,000    139\n",
       "25,000 - 34,999    122\n",
       "35,000 - 49,999    118\n",
       "50,000 - 74,999    115\n",
       "75,000 and over    112\n",
       "Name: Personal Income, dtype: int64"
      ]
     },
     "execution_count": 45,
     "metadata": {},
     "output_type": "execute_result"
    }
   ],
   "source": [
    "#income categories (8). We should be focussing on working class jobs (not CEO)\n",
    "\n",
    "income_df[\"Personal Income\"].value_counts()\n"
   ]
  },
  {
   "cell_type": "code",
   "execution_count": 46,
   "metadata": {},
   "outputs": [
    {
     "data": {
      "text/plain": [
       "No high school diploma                 287\n",
       "Some college, less than 4-yr degree    263\n",
       "High school or equivalent              257\n",
       "Bachelor's degree or higher            239\n",
       "Children under 15                       14\n",
       "Name: Education Level, dtype: int64"
      ]
     },
     "execution_count": 46,
     "metadata": {},
     "output_type": "execute_result"
    }
   ],
   "source": [
    "income_df[\"Education Level\"].value_counts()"
   ]
  },
  {
   "cell_type": "code",
   "execution_count": 47,
   "metadata": {},
   "outputs": [
    {
     "data": {
      "text/plain": [
       "array(['2008-01-01', '2009-01-01', '2010-01-01', '2011-01-01',\n",
       "       '2012-01-01', '2013-01-01', '2014-01-01'], dtype=object)"
      ]
     },
     "execution_count": 47,
     "metadata": {},
     "output_type": "execute_result"
    }
   ],
   "source": [
    "income_df[\"Year\"].unique()"
   ]
  },
  {
   "cell_type": "code",
   "execution_count": 48,
   "metadata": {},
   "outputs": [
    {
     "data": {
      "text/plain": [
       "Male      533\n",
       "Female    527\n",
       "Name: Gender, dtype: int64"
      ]
     },
     "execution_count": 48,
     "metadata": {},
     "output_type": "execute_result"
    }
   ],
   "source": [
    "# Gender data is complete\n",
    "income_df[\"Gender\"].value_counts()"
   ]
  },
  {
   "cell_type": "code",
   "execution_count": 49,
   "metadata": {},
   "outputs": [
    {
     "data": {
      "text/plain": [
       "18 to 64     448\n",
       "65 to 80+    445\n",
       "00 to 17     167\n",
       "Name: Age, dtype: int64"
      ]
     },
     "execution_count": 49,
     "metadata": {},
     "output_type": "execute_result"
    }
   ],
   "source": [
    "income_df[\"Age\"].value_counts()"
   ]
  },
  {
   "cell_type": "code",
   "execution_count": 50,
   "metadata": {},
   "outputs": [],
   "source": [
    "working_income_df= income_df.loc[income_df[\"Age\"]==\"18 to 64\"]"
   ]
  },
  {
   "cell_type": "code",
   "execution_count": 51,
   "metadata": {},
   "outputs": [
    {
     "data": {
      "text/html": [
       "<div>\n",
       "<style scoped>\n",
       "    .dataframe tbody tr th:only-of-type {\n",
       "        vertical-align: middle;\n",
       "    }\n",
       "\n",
       "    .dataframe tbody tr th {\n",
       "        vertical-align: top;\n",
       "    }\n",
       "\n",
       "    .dataframe thead th {\n",
       "        text-align: right;\n",
       "    }\n",
       "</style>\n",
       "<table border=\"1\" class=\"dataframe\">\n",
       "  <thead>\n",
       "    <tr style=\"text-align: right;\">\n",
       "      <th></th>\n",
       "      <th>Education Level</th>\n",
       "      <th>Year</th>\n",
       "      <th>Age</th>\n",
       "      <th>Gender</th>\n",
       "      <th>Personal Income</th>\n",
       "      <th>Population Count</th>\n",
       "    </tr>\n",
       "  </thead>\n",
       "  <tbody>\n",
       "    <tr>\n",
       "      <th>21</th>\n",
       "      <td>No high school diploma</td>\n",
       "      <td>2008-01-01</td>\n",
       "      <td>18 to 64</td>\n",
       "      <td>Male</td>\n",
       "      <td>No Income</td>\n",
       "      <td>261172.0</td>\n",
       "    </tr>\n",
       "    <tr>\n",
       "      <th>22</th>\n",
       "      <td>No high school diploma</td>\n",
       "      <td>2008-01-01</td>\n",
       "      <td>18 to 64</td>\n",
       "      <td>Male</td>\n",
       "      <td>5,000 - 9,999</td>\n",
       "      <td>163263.0</td>\n",
       "    </tr>\n",
       "    <tr>\n",
       "      <th>23</th>\n",
       "      <td>No high school diploma</td>\n",
       "      <td>2008-01-01</td>\n",
       "      <td>18 to 64</td>\n",
       "      <td>Male</td>\n",
       "      <td>10,000 - 14,000</td>\n",
       "      <td>317119.0</td>\n",
       "    </tr>\n",
       "    <tr>\n",
       "      <th>24</th>\n",
       "      <td>No high school diploma</td>\n",
       "      <td>2008-01-01</td>\n",
       "      <td>18 to 64</td>\n",
       "      <td>Male</td>\n",
       "      <td>15,000 - 24,999</td>\n",
       "      <td>573769.0</td>\n",
       "    </tr>\n",
       "    <tr>\n",
       "      <th>25</th>\n",
       "      <td>No high school diploma</td>\n",
       "      <td>2008-01-01</td>\n",
       "      <td>18 to 64</td>\n",
       "      <td>Male</td>\n",
       "      <td>25,000 - 34,999</td>\n",
       "      <td>333713.0</td>\n",
       "    </tr>\n",
       "    <tr>\n",
       "      <th>...</th>\n",
       "      <td>...</td>\n",
       "      <td>...</td>\n",
       "      <td>...</td>\n",
       "      <td>...</td>\n",
       "      <td>...</td>\n",
       "      <td>...</td>\n",
       "    </tr>\n",
       "    <tr>\n",
       "      <th>992</th>\n",
       "      <td>Bachelor's degree or higher</td>\n",
       "      <td>2014-01-01</td>\n",
       "      <td>18 to 64</td>\n",
       "      <td>Female</td>\n",
       "      <td>15,000 - 24,999</td>\n",
       "      <td>352744.0</td>\n",
       "    </tr>\n",
       "    <tr>\n",
       "      <th>993</th>\n",
       "      <td>Bachelor's degree or higher</td>\n",
       "      <td>2014-01-01</td>\n",
       "      <td>18 to 64</td>\n",
       "      <td>Female</td>\n",
       "      <td>25,000 - 34,999</td>\n",
       "      <td>340611.0</td>\n",
       "    </tr>\n",
       "    <tr>\n",
       "      <th>994</th>\n",
       "      <td>Bachelor's degree or higher</td>\n",
       "      <td>2014-01-01</td>\n",
       "      <td>18 to 64</td>\n",
       "      <td>Female</td>\n",
       "      <td>35,000 - 49,999</td>\n",
       "      <td>531019.0</td>\n",
       "    </tr>\n",
       "    <tr>\n",
       "      <th>995</th>\n",
       "      <td>Bachelor's degree or higher</td>\n",
       "      <td>2014-01-01</td>\n",
       "      <td>18 to 64</td>\n",
       "      <td>Female</td>\n",
       "      <td>50,000 - 74,999</td>\n",
       "      <td>660048.0</td>\n",
       "    </tr>\n",
       "    <tr>\n",
       "      <th>996</th>\n",
       "      <td>Bachelor's degree or higher</td>\n",
       "      <td>2014-01-01</td>\n",
       "      <td>18 to 64</td>\n",
       "      <td>Female</td>\n",
       "      <td>75,000 and over</td>\n",
       "      <td>953282.0</td>\n",
       "    </tr>\n",
       "  </tbody>\n",
       "</table>\n",
       "<p>448 rows × 6 columns</p>\n",
       "</div>"
      ],
      "text/plain": [
       "                 Education Level        Year       Age  Gender  \\\n",
       "21        No high school diploma  2008-01-01  18 to 64    Male   \n",
       "22        No high school diploma  2008-01-01  18 to 64    Male   \n",
       "23        No high school diploma  2008-01-01  18 to 64    Male   \n",
       "24        No high school diploma  2008-01-01  18 to 64    Male   \n",
       "25        No high school diploma  2008-01-01  18 to 64    Male   \n",
       "..                           ...         ...       ...     ...   \n",
       "992  Bachelor's degree or higher  2014-01-01  18 to 64  Female   \n",
       "993  Bachelor's degree or higher  2014-01-01  18 to 64  Female   \n",
       "994  Bachelor's degree or higher  2014-01-01  18 to 64  Female   \n",
       "995  Bachelor's degree or higher  2014-01-01  18 to 64  Female   \n",
       "996  Bachelor's degree or higher  2014-01-01  18 to 64  Female   \n",
       "\n",
       "     Personal Income  Population Count  \n",
       "21         No Income          261172.0  \n",
       "22     5,000 - 9,999          163263.0  \n",
       "23   10,000 - 14,000          317119.0  \n",
       "24   15,000 - 24,999          573769.0  \n",
       "25   25,000 - 34,999          333713.0  \n",
       "..               ...               ...  \n",
       "992  15,000 - 24,999          352744.0  \n",
       "993  25,000 - 34,999          340611.0  \n",
       "994  35,000 - 49,999          531019.0  \n",
       "995  50,000 - 74,999          660048.0  \n",
       "996  75,000 and over          953282.0  \n",
       "\n",
       "[448 rows x 6 columns]"
      ]
     },
     "execution_count": 51,
     "metadata": {},
     "output_type": "execute_result"
    }
   ],
   "source": [
    "# create a file with just working age data (18-64) \n",
    "working_income_df\n"
   ]
  },
  {
   "cell_type": "code",
   "execution_count": 52,
   "metadata": {},
   "outputs": [],
   "source": [
    "# create a file for just women (18-64) and compare over time\n",
    "# create a file for just men (18-64) and compare over time\n",
    "Fworking_income_df = working_income_df.loc[working_income_df[\"Gender\"]==\"Female\"]\n",
    "Mworking_income_df = working_income_df.loc[working_income_df[\"Gender\"]==\"Male\"]\n"
   ]
  },
  {
   "cell_type": "code",
   "execution_count": 71,
   "metadata": {},
   "outputs": [
    {
     "data": {
      "image/png": "[encoded data removed]",
      "text/plain": [
       "<Figure size 432x288 with 1 Axes>"
      ]
     },
     "metadata": {
      "needs_background": "light"
     },
     "output_type": "display_data"
    }
   ],
   "source": [
    "#compare male and femal totals\n",
    "\n",
    "Fworking_income_df.head()\n",
    "labels = [\"High School\", \"Some College\", \"College\"]\n",
    "education = [\"High School\", \"Some College\", \"College\"]\n",
    "BA_count = Fworking_income_df.loc[Fworking_income_df[\"Education Level\"] == \"Bachelor's degree or higher\", \n",
    "                               \"Population Count\"].sum()\n",
    "HS_count = Fworking_income_df.loc[Fworking_income_df[\"Education Level\"] == \"High school or equivalent\", \n",
    "                               \"Population Count\"].sum()\n",
    "SomeCollege_count=  Fworking_income_df.loc[Fworking_income_df[\"Education Level\"] == \"Some college, less than 4-yr degree\", \n",
    "                               \"Population Count\"].sum()\n",
    "\n",
    "MBA_count = Mworking_income_df.loc[Mworking_income_df[\"Education Level\"] == \"Bachelor's degree or higher\", \n",
    "                               \"Population Count\"].sum()\n",
    "MHS_count = Mworking_income_df.loc[Mworking_income_df[\"Education Level\"] == \"High school or equivalent\", \n",
    "                               \"Population Count\"].sum()\n",
    "MSomeCollege_count=  Mworking_income_df.loc[Mworking_income_df[\"Education Level\"] == \"Some college, less than 4-yr degree\", \n",
    "                               \"Population Count\"].sum()\n",
    "\n",
    "#plot the totals\n",
    "F_count=[HS_count,SomeCollege_count,BA_count]\n",
    "M_count=[MHS_count, MSomeCollege_count, MBA_count]\n",
    "\n",
    "x = np.arange(len(labels))  # the label locations\n",
    "width = 0.35  # the width of the bars\n",
    "\n",
    "fig, ax = plt.subplots()\n",
    "rects1 = ax.bar(x - width/2, M_count, width, label='Male')\n",
    "rects2 = ax.bar(x + width/2, F_count, width, label='Female')\n",
    "\n",
    "# Add some text for labels, title and custom x-axis tick labels, etc.\n",
    "ax.set_ylabel('Population')\n",
    "ax.set_title('Income by Education and gender')\n",
    "ax.set_xticks(x)\n",
    "ax.set_xticklabels(labels)\n",
    "ax.legend()\n",
    "\n",
    "def autolabel(rects):\n",
    "    \"\"\"Attach a text label above each bar in *rects*, displaying its height.\"\"\"\n",
    "    for rect in rects:\n",
    "        height = rect.get_height()\n",
    "        ax.annotate('{}'.format(height),\n",
    "                    xy=(rect.get_x() + rect.get_width() / 2, height),\n",
    "                    xytext=(0, 3),  # 3 points vertical offset\n",
    "                    textcoords=\"offset points\",\n",
    "                    ha='center', va='bottom')\n",
    "\n",
    "\n",
    "autolabel(rects1)\n",
    "autolabel(rects2)\n",
    "\n",
    "\n",
    "plt.show()"
   ]
  },
  {
   "cell_type": "code",
   "execution_count": 120,
   "metadata": {},
   "outputs": [
    {
     "data": {
      "text/plain": [
       "<matplotlib.legend.Legend at 0x11bfbe910>"
      ]
     },
     "execution_count": 120,
     "metadata": {},
     "output_type": "execute_result"
    },
    {
     "data": {
      "image/png": "[encoded data removed]",
      "text/plain": [
       "<Figure size 432x288 with 1 Axes>"
      ]
     },
     "metadata": {
      "needs_background": "light"
     },
     "output_type": "display_data"
    }
   ],
   "source": [
    "#create a file of education totals for a single year\n",
    "Y2008_working_income_df= working_income_df.loc[working_income_df[\"Year\"]==\"2008-01-01\"]\n",
    "Y2008_Fworking_income_df = Y2008_working_income_df.loc[Y2008_working_income_df[\"Gender\"]==\"Female\"]\n",
    "Y2008_Mworking_income_df = Y2008_working_income_df.loc[Y2008_working_income_df[\"Gender\"]==\"Male\"]\n",
    "\n",
    "\n",
    "labels = [\"High School\", \"Some College\", \"College\"]\n",
    "education = [\"High School\", \"Some College\", \"College\"]\n",
    "BA_count = Y2008_Fworking_income_df.loc[Y2008_Fworking_income_df[\"Education Level\"] == \"Bachelor's degree or higher\", \n",
    "                               \"Population Count\"].sum()\n",
    "HS_count = Y2008_Fworking_income_df.loc[Y2008_Fworking_income_df[\"Education Level\"] == \"High school or equivalent\", \n",
    "                               \"Population Count\"].sum()\n",
    "SomeCollege_count=  Y2008_Fworking_income_df.loc[Y2008_Fworking_income_df[\"Education Level\"] == \"Some college, less than 4-yr degree\", \n",
    "                               \"Population Count\"].sum()\n",
    "\n",
    "MBA_count = Y2008_Mworking_income_df.loc[Y2008_Mworking_income_df[\"Education Level\"] == \"Bachelor's degree or higher\", \n",
    "                               \"Population Count\"].sum()\n",
    "MHS_count = Y2008_Mworking_income_df.loc[Y2008_Mworking_income_df[\"Education Level\"] == \"High school or equivalent\", \n",
    "                               \"Population Count\"].sum()\n",
    "MSomeCollege_count=  Y2008_Mworking_income_df.loc[Y2008_Mworking_income_df[\"Education Level\"] == \"Some college, less than 4-yr degree\", \n",
    "                               \"Population Count\"].sum()\n",
    "\n",
    "#plot the totals\n",
    "\n",
    "F_count=[HS_count,SomeCollege_count,BA_count]\n",
    "M_count=[MHS_count, MSomeCollege_count, MBA_count]\n",
    "\n",
    "x = np.arange(len(labels))  # the label locations\n",
    "width = 0.35  # the width of the bars\n",
    "\n",
    "fig, ax = plt.subplots()\n",
    "rects1 = ax.bar(x - width/2, M_count, width, label='Male')\n",
    "rects2 = ax.bar(x + width/2, F_count, width, label='Female')\n",
    "\n",
    "# Add some text for labels, title and custom x-axis tick labels, etc.\n",
    "ax.set_ylabel('Population')\n",
    "ax.set_title('2008 Income by Education and gender')\n",
    "ax.set_xticks(x)\n",
    "ax.set_xticklabels(labels)\n",
    "ax.legend()"
   ]
  },
  {
   "cell_type": "code",
   "execution_count": 122,
   "metadata": {},
   "outputs": [
    {
     "data": {
      "text/html": [
       "<div>\n",
       "<style scoped>\n",
       "    .dataframe tbody tr th:only-of-type {\n",
       "        vertical-align: middle;\n",
       "    }\n",
       "\n",
       "    .dataframe tbody tr th {\n",
       "        vertical-align: top;\n",
       "    }\n",
       "\n",
       "    .dataframe thead th {\n",
       "        text-align: right;\n",
       "    }\n",
       "</style>\n",
       "<table border=\"1\" class=\"dataframe\">\n",
       "  <thead>\n",
       "    <tr style=\"text-align: right;\">\n",
       "      <th></th>\n",
       "      <th>Female</th>\n",
       "      <th>Male</th>\n",
       "    </tr>\n",
       "  </thead>\n",
       "  <tbody>\n",
       "    <tr>\n",
       "      <th>0</th>\n",
       "      <td>2166401.0</td>\n",
       "      <td>2557142.16</td>\n",
       "    </tr>\n",
       "    <tr>\n",
       "      <th>1</th>\n",
       "      <td>3169539.0</td>\n",
       "      <td>2932242.58</td>\n",
       "    </tr>\n",
       "    <tr>\n",
       "      <th>2</th>\n",
       "      <td>3226146.0</td>\n",
       "      <td>3014633.58</td>\n",
       "    </tr>\n",
       "  </tbody>\n",
       "</table>\n",
       "</div>"
      ],
      "text/plain": [
       "      Female        Male\n",
       "0  2166401.0  2557142.16\n",
       "1  3169539.0  2932242.58\n",
       "2  3226146.0  3014633.58"
      ]
     },
     "execution_count": 122,
     "metadata": {},
     "output_type": "execute_result"
    }
   ],
   "source": [
    "import scipy.stats as stats\n",
    "observed = pd.Series([HS_count, SomeCollege_count,BA_count])\n",
    "df=pd.DataFrame([observed]).T\n",
    "coeff = 0.94\n",
    "#df[1] = [ MHS_count*coeff, MSomeCollege_count*coeff, MBA_count*coeff]\n",
    "#df[1] = [ MHS_count, MSomeCollege_count, MBA_count]\n",
    "df.columns = [\"Female\", \"Male\"]\n",
    "\n",
    "df\n"
   ]
  },
  {
   "cell_type": "code",
   "execution_count": 117,
   "metadata": {},
   "outputs": [],
   "source": [
    "critical_value = stats.chi2.ppf(q = 0.95, df = 2)"
   ]
  },
  {
   "cell_type": "markdown",
   "metadata": {},
   "source": [
    "8562086 /9046828"
   ]
  },
  {
   "cell_type": "code",
   "execution_count": 118,
   "metadata": {},
   "outputs": [
    {
     "data": {
      "text/plain": [
       "5.991464547107979"
      ]
     },
     "execution_count": 118,
     "metadata": {},
     "output_type": "execute_result"
    }
   ],
   "source": [
    "critical_value"
   ]
  },
  {
   "cell_type": "code",
   "execution_count": 119,
   "metadata": {},
   "outputs": [
    {
     "data": {
      "text/plain": [
       "Power_divergenceResult(statistic=93750.4580719881, pvalue=0.0)"
      ]
     },
     "execution_count": 119,
     "metadata": {},
     "output_type": "execute_result"
    }
   ],
   "source": [
    "# Chi squared tests is not useful because of differences in number, although\n",
    "# it is interestimg that it's heavily not by chance that equal nmbers of female and male don't\n",
    "#have the same education level\n",
    "#We can mean out the populatuions for a better picture\n",
    "#Chi squared is still way out of whack\n",
    "\n",
    "stats.chisquare(df['Female'], df['Male'])"
   ]
  },
  {
   "cell_type": "code",
   "execution_count": null,
   "metadata": {},
   "outputs": [],
   "source": []
  }
 ],
 "metadata": {
  "kernelspec": {
   "display_name": "Python 3",
   "language": "python",
   "name": "python3"
  },
  "language_info": {
   "codemirror_mode": {
    "name": "ipython",
    "version": 3
   },
   "file_extension": ".py",
   "mimetype": "text/x-python",
   "name": "python",
   "nbconvert_exporter": "python",
   "pygments_lexer": "ipython3",
   "version": "3.7.6"
  }
 },
 "nbformat": 4,
 "nbformat_minor": 4
}
